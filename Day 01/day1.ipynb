{
 "cells": [
  {
   "cell_type": "markdown",
   "metadata": {},
   "source": [
    "### Advent of Code - Day 1"
   ]
  },
  {
   "cell_type": "markdown",
   "metadata": {},
   "source": [
    "#### Part 1"
   ]
  },
  {
   "cell_type": "code",
   "execution_count": 1,
   "metadata": {},
   "outputs": [],
   "source": [
    "fh = open(\"input.txt\", 'r')\n",
    "contents = fh.read().splitlines()"
   ]
  },
  {
   "cell_type": "code",
   "execution_count": 2,
   "metadata": {},
   "outputs": [],
   "source": [
    "elf_num = 1\n",
    "all_food = dict()\n",
    "all_food[elf_num] = list()\n",
    "\n",
    "for food_item in contents:\n",
    "    if food_item == \"\":\n",
    "        elf_num += 1\n",
    "        all_food[elf_num] = list()\n",
    "    else:\n",
    "        food_item = int(food_item)\n",
    "        all_food[elf_num].append(food_item)"
   ]
  },
  {
   "cell_type": "code",
   "execution_count": 4,
   "metadata": {},
   "outputs": [],
   "source": [
    "max_calories = float(\"-inf\")\n",
    "most_food_elf = None\n",
    "\n",
    "for elf_num, food_items in all_food.items():\n",
    "    if sum(food_items) > max_calories:\n",
    "        max_calories = sum(food_items)\n",
    "        most_food_elf = elf_num\n"
   ]
  },
  {
   "cell_type": "code",
   "execution_count": 6,
   "metadata": {},
   "outputs": [
    {
     "data": {
      "text/plain": [
       "69528"
      ]
     },
     "execution_count": 6,
     "metadata": {},
     "output_type": "execute_result"
    }
   ],
   "source": [
    "sum(all_food[most_food_elf]) # 69528"
   ]
  },
  {
   "cell_type": "code",
   "execution_count": 10,
   "metadata": {},
   "outputs": [],
   "source": [
    "import numpy as np\n",
    "aggregated_calories = np.array([sum(v) for v in all_food.values()])"
   ]
  },
  {
   "cell_type": "code",
   "execution_count": 11,
   "metadata": {},
   "outputs": [
    {
     "data": {
      "text/plain": [
       "array([50030, 47922, 51799, 59658, 43818, 43630, 51998, 59568, 62005,\n",
       "       53272, 61767, 47475, 57846, 45941, 42188, 41621, 50492, 24632,\n",
       "       46755, 47270, 51773, 43199, 46236, 54530, 35778, 54786, 52210,\n",
       "       44973, 47412, 51130, 50158, 54018, 60613, 63252, 50663, 56904,\n",
       "       62565, 52473, 46419, 15842, 57990, 62289, 48749, 57308, 18033,\n",
       "       46833, 45353, 35239, 59676, 69528, 24572, 55793, 38865, 44652,\n",
       "       51753, 36228, 49129, 36152, 45906, 57662, 37983, 62924, 52327,\n",
       "       43542, 26864, 56934, 44860, 42014, 39147, 58192, 55441,  3308,\n",
       "       49464, 44776, 51430, 58111, 40795, 40361, 43933, 61750, 41600,\n",
       "       54490, 31677, 56853, 57703,  7578, 44530, 18247, 29620, 67746,\n",
       "       51944, 42929, 51956, 35075, 55097, 18474, 50075, 47252, 45302,\n",
       "       53973, 46549, 47599, 14472, 26990, 47486, 53317, 46228, 55463,\n",
       "       45080, 12986, 43156, 38853, 54902, 51806, 47006, 45279, 49770,\n",
       "       48452, 46798, 37947, 32701, 49925, 23081, 55713, 36621, 39104,\n",
       "       55986, 54970, 34847, 19897, 60110, 47832,  8994, 49710, 47469,\n",
       "       57402, 33890, 44469, 31683, 16083, 66006, 52941, 55591, 49581,\n",
       "       44940, 55133, 28382, 51172, 56652, 61062, 51427, 28217, 18881,\n",
       "       45442, 41924, 35808, 46500, 63333, 54078, 58098, 54230, 58447,\n",
       "       33874, 26215, 57337, 48759, 44132, 41876, 68878, 60287, 55245,\n",
       "       42230, 49803, 57539, 45288, 47604, 35528, 50012, 54681, 52942,\n",
       "       52315, 43663, 54617, 63423, 53201,  3491, 58449, 49637, 33760,\n",
       "       21493, 35120, 42838, 50417, 49887, 47336, 57008, 36178, 38985,\n",
       "       27380, 47109, 44970, 50121, 54624, 61161, 56860, 58217, 52795,\n",
       "       66685, 58949, 29462, 54203, 41527, 54869, 28514, 29719, 46737,\n",
       "       32597, 43491, 38703, 50965, 57909, 36722, 45154, 47572, 47790,\n",
       "       35648, 37641, 41087, 53022, 44172, 42315, 59801, 60219, 60296,\n",
       "       38755, 34825, 55666, 41722, 24206, 27705, 52088, 45492, 51336,\n",
       "       24752, 47615, 47581, 54786, 45986, 37259, 66756, 56986, 57500,\n",
       "       18587, 58403, 46803])"
      ]
     },
     "execution_count": 11,
     "metadata": {},
     "output_type": "execute_result"
    }
   ],
   "source": [
    "aggregated_calories"
   ]
  },
  {
   "cell_type": "code",
   "execution_count": 12,
   "metadata": {},
   "outputs": [
    {
     "data": {
      "text/plain": [
       "206152"
      ]
     },
     "execution_count": 12,
     "metadata": {},
     "output_type": "execute_result"
    }
   ],
   "source": [
    "ind = np.argpartition(aggregated_calories, -3)[-3:]\n",
    "np.sum(aggregated_calories[ind])"
   ]
  },
  {
   "cell_type": "code",
   "execution_count": 13,
   "metadata": {},
   "outputs": [
    {
     "data": {
      "text/plain": [
       "array([ 89,  49, 168], dtype=int64)"
      ]
     },
     "execution_count": 13,
     "metadata": {},
     "output_type": "execute_result"
    }
   ],
   "source": [
    "ind"
   ]
  },
  {
   "cell_type": "code",
   "execution_count": 19,
   "metadata": {},
   "outputs": [
    {
     "data": {
      "text/plain": [
       "206152"
      ]
     },
     "execution_count": 19,
     "metadata": {},
     "output_type": "execute_result"
    }
   ],
   "source": [
    "sum(aggregated_calories[ind])"
   ]
  }
 ],
 "metadata": {
  "kernelspec": {
   "display_name": "Python 3.9.7 ('base')",
   "language": "python",
   "name": "python3"
  },
  "language_info": {
   "codemirror_mode": {
    "name": "ipython",
    "version": 3
   },
   "file_extension": ".py",
   "mimetype": "text/x-python",
   "name": "python",
   "nbconvert_exporter": "python",
   "pygments_lexer": "ipython3",
   "version": "3.9.7"
  },
  "orig_nbformat": 4,
  "vscode": {
   "interpreter": {
    "hash": "2015bda94f99312324182a6da2c0335845869d8cccbe791e6d71b6a750717475"
   }
  }
 },
 "nbformat": 4,
 "nbformat_minor": 2
}
