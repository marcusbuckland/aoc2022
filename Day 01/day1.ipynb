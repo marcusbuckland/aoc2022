{
 "cells": [
  {
   "cell_type": "markdown",
   "metadata": {},
   "source": [
    "### Advent of Code - Day 1"
   ]
  },
  {
   "cell_type": "markdown",
   "metadata": {},
   "source": [
    "#### Part 1"
   ]
  },
  {
   "cell_type": "code",
   "execution_count": 5,
   "metadata": {},
   "outputs": [],
   "source": [
    "fh = open(\"input.txt\", 'r')\n",
    "contents = fh.read().splitlines()"
   ]
  },
  {
   "cell_type": "code",
   "execution_count": 10,
   "metadata": {},
   "outputs": [],
   "source": [
    "elf_num = 1\n",
    "all_food = dict()\n",
    "all_food[elf_num] = list()\n",
    "\n",
    "for food_item in contents:\n",
    "    if food_item == \"\":\n",
    "        elf_num += 1\n",
    "        all_food[elf_num] = list()\n",
    "    else:\n",
    "        food_item = int(food_item)\n",
    "        all_food[elf_num].append(food_item)"
   ]
  },
  {
   "cell_type": "code",
   "execution_count": 19,
   "metadata": {},
   "outputs": [],
   "source": [
    "max_calories = float(\"-inf\")\n",
    "most_food_elf = None\n",
    "\n",
    "for elf_num, food_items in all_food.items():\n",
    "    if sum(food_items) > max_calories:\n",
    "        max_calories = sum(food_items)\n",
    "        most_food_elf = elf_num\n"
   ]
  },
  {
   "cell_type": "code",
   "execution_count": 30,
   "metadata": {},
   "outputs": [],
   "source": [
    "import numpy as np\n",
    "aggregated_calories = np.array([sum(v) for k, v in all_food.items()])"
   ]
  },
  {
   "cell_type": "code",
   "execution_count": 31,
   "metadata": {},
   "outputs": [],
   "source": [
    "ind = np.argpartition(aggregated_calories, -3)[-3:]\n",
    "np.sum(aggregated_calories[ind])"
   ]
  }
 ],
 "metadata": {
  "kernelspec": {
   "display_name": "Python 3.9.7 ('base')",
   "language": "python",
   "name": "python3"
  },
  "language_info": {
   "codemirror_mode": {
    "name": "ipython",
    "version": 3
   },
   "file_extension": ".py",
   "mimetype": "text/x-python",
   "name": "python",
   "nbconvert_exporter": "python",
   "pygments_lexer": "ipython3",
   "version": "3.9.7"
  },
  "orig_nbformat": 4,
  "vscode": {
   "interpreter": {
    "hash": "2015bda94f99312324182a6da2c0335845869d8cccbe791e6d71b6a750717475"
   }
  }
 },
 "nbformat": 4,
 "nbformat_minor": 2
}
