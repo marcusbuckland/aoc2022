{
 "cells": [
  {
   "cell_type": "markdown",
   "metadata": {},
   "source": [
    "### Advent of Code - Day 4"
   ]
  },
  {
   "cell_type": "markdown",
   "metadata": {},
   "source": [
    "#### Part 1"
   ]
  },
  {
   "cell_type": "code",
   "execution_count": 1,
   "metadata": {},
   "outputs": [],
   "source": [
    "fh = open(\"input.txt\", 'r')\n",
    "contents = fh.read().splitlines()"
   ]
  },
  {
   "cell_type": "code",
   "execution_count": 2,
   "metadata": {},
   "outputs": [],
   "source": [
    "opponent = [x[0] for x in contents]\n",
    "me = [x[-1] for x in contents]\n",
    "\n",
    "key = {}\n",
    "key[\"A\"] = \"Rock\"\n",
    "key[\"B\"] = \"Paper\"\n",
    "key[\"C\"] = \"Scissors\"\n",
    "key[\"X\"] = \"Rock\"\n",
    "key[\"Y\"] = \"Paper\"\n",
    "key[\"Z\"] = \"Scissors\"\n"
   ]
  },
  {
   "cell_type": "code",
   "execution_count": 3,
   "metadata": {},
   "outputs": [],
   "source": [
    "score = 0\n",
    "\n",
    "for ix, opp_throw in enumerate(opponent):\n",
    "    opp_throw = key[opp_throw]\n",
    "    my_throw = key[me[ix]]\n",
    "\n",
    "    # Draw\n",
    "    if opp_throw == my_throw:\n",
    "        score += 3\n",
    "        continue\n",
    "\n",
    "    # I win\n",
    "    if opp_throw == \"Rock\" and my_throw == \"Paper\" : score += 6\n",
    "    if opp_throw == \"Paper\" and my_throw == \"Scissors\" : score += 6\n",
    "    if opp_throw == \"Scissors\" and my_throw == \"Rock\" : score += 6\n",
    "\n"
   ]
  },
  {
   "cell_type": "code",
   "execution_count": 4,
   "metadata": {},
   "outputs": [
    {
     "data": {
      "text/plain": [
       "11906"
      ]
     },
     "execution_count": 4,
     "metadata": {},
     "output_type": "execute_result"
    }
   ],
   "source": [
    "from collections import Counter\n",
    "c = Counter(me)\n",
    "score += 1 * c[\"X\"] + 2*c[\"Y\"] + 3*c[\"Z\"]\n",
    "score"
   ]
  },
  {
   "cell_type": "markdown",
   "metadata": {},
   "source": [
    "#### Part 2"
   ]
  },
  {
   "cell_type": "code",
   "execution_count": 11,
   "metadata": {},
   "outputs": [
    {
     "data": {
      "text/plain": [
       "11186"
      ]
     },
     "execution_count": 11,
     "metadata": {},
     "output_type": "execute_result"
    }
   ],
   "source": [
    "# Rock = 1\n",
    "# Paper = 2\n",
    "# Scissors = 3\n",
    "\n",
    "\n",
    "score = 0\n",
    "\n",
    "for ix, opp_throw in enumerate(opponent):\n",
    "    my_throw = me[ix]\n",
    "\n",
    "    if my_throw == \"X\" and opp_throw == \"A\" : score += 3\n",
    "    elif my_throw == \"X\" and opp_throw == \"B\" : score += 1\n",
    "    elif my_throw == \"X\" and opp_throw == \"C\" : score += 2\n",
    "    elif my_throw == \"Y\" and opp_throw == \"A\" : score += 1 + 3\n",
    "    elif my_throw == \"Y\" and opp_throw == \"B\" : score += 2 + 3\n",
    "    elif my_throw == \"Y\" and opp_throw == \"C\" : score += 3 + 3\n",
    "    elif my_throw == \"Z\" and opp_throw == \"A\" : score += 2 + 6\n",
    "    elif my_throw == \"Z\" and opp_throw == \"B\" : score += 3 + 6\n",
    "    elif my_throw == \"Z\" and opp_throw == \"C\" : score += 1 + 6\n",
    "\n",
    "score"
   ]
  },
  {
   "cell_type": "code",
   "execution_count": null,
   "metadata": {},
   "outputs": [],
   "source": []
  },
  {
   "cell_type": "code",
   "execution_count": null,
   "metadata": {},
   "outputs": [],
   "source": []
  },
  {
   "cell_type": "code",
   "execution_count": null,
   "metadata": {},
   "outputs": [],
   "source": []
  },
  {
   "cell_type": "code",
   "execution_count": null,
   "metadata": {},
   "outputs": [],
   "source": []
  }
 ],
 "metadata": {
  "kernelspec": {
   "display_name": "Python 3.9.7 ('base')",
   "language": "python",
   "name": "python3"
  },
  "language_info": {
   "codemirror_mode": {
    "name": "ipython",
    "version": 3
   },
   "file_extension": ".py",
   "mimetype": "text/x-python",
   "name": "python",
   "nbconvert_exporter": "python",
   "pygments_lexer": "ipython3",
   "version": "3.9.7"
  },
  "orig_nbformat": 4,
  "vscode": {
   "interpreter": {
    "hash": "2015bda94f99312324182a6da2c0335845869d8cccbe791e6d71b6a750717475"
   }
  }
 },
 "nbformat": 4,
 "nbformat_minor": 2
}
