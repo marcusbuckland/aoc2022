{
 "cells": [
  {
   "cell_type": "markdown",
   "metadata": {},
   "source": [
    "### Advent of Code - Day 4"
   ]
  },
  {
   "cell_type": "markdown",
   "metadata": {},
   "source": [
    "#### Part 1"
   ]
  },
  {
   "cell_type": "code",
   "execution_count": 1,
   "metadata": {},
   "outputs": [],
   "source": [
    "fh = open(\"input.txt\", 'r')\n",
    "contents = fh.read().splitlines()"
   ]
  },
  {
   "cell_type": "code",
   "execution_count": 2,
   "metadata": {},
   "outputs": [],
   "source": [
    "def is_contained(first, second):\n",
    "    first_start, first_stop = first.split(\"-\")\n",
    "    second_start, second_stop = second.split(\"-\")\n",
    "\n",
    "    first_start = int(first_start)\n",
    "    first_stop = int(first_stop)\n",
    "    second_start = int(second_start)\n",
    "    second_stop = int(second_stop)\n",
    "\n",
    "    min_start = min(first_start, second_start)\n",
    "    max_stop = max(first_stop, second_stop)\n",
    "\n",
    "    return int(first_start == min_start and first_stop == max_stop or \\\n",
    "        second_start == min_start and second_stop == max_stop)\n"
   ]
  },
  {
   "cell_type": "code",
   "execution_count": 3,
   "metadata": {},
   "outputs": [
    {
     "name": "stdout",
     "output_type": "stream",
     "text": [
      "644\n"
     ]
    }
   ],
   "source": [
    "total = 0\n",
    "for ix, line in enumerate(contents):\n",
    "    first, second = line.split(\",\")\n",
    "    total += is_contained(first, second)\n",
    "\n",
    "print(total)"
   ]
  },
  {
   "cell_type": "markdown",
   "metadata": {},
   "source": [
    "#### Part 2"
   ]
  },
  {
   "cell_type": "code",
   "execution_count": 14,
   "metadata": {},
   "outputs": [],
   "source": [
    "def does_overlap(first, second):\n",
    "    first_start, first_stop = first.split(\"-\")\n",
    "    second_start, second_stop = second.split(\"-\")\n",
    "\n",
    "    first_start = int(first_start)\n",
    "    first_stop = int(first_stop)\n",
    "    second_start = int(second_start)\n",
    "    second_stop = int(second_stop)\n",
    "\n",
    "    return first_start <= second_start <= first_stop or \\\n",
    "        second_start <= first_start <= second_stop"
   ]
  },
  {
   "cell_type": "code",
   "execution_count": 15,
   "metadata": {},
   "outputs": [
    {
     "name": "stdout",
     "output_type": "stream",
     "text": [
      "926\n"
     ]
    }
   ],
   "source": [
    "total = 0\n",
    "for ix, line in enumerate(contents):\n",
    "    first, second = line.split(\",\")\n",
    "    total += does_overlap(first, second)\n",
    "\n",
    "print(total)"
   ]
  },
  {
   "cell_type": "code",
   "execution_count": null,
   "metadata": {},
   "outputs": [],
   "source": []
  }
 ],
 "metadata": {
  "kernelspec": {
   "display_name": "Python 3.9.7 ('base')",
   "language": "python",
   "name": "python3"
  },
  "language_info": {
   "codemirror_mode": {
    "name": "ipython",
    "version": 3
   },
   "file_extension": ".py",
   "mimetype": "text/x-python",
   "name": "python",
   "nbconvert_exporter": "python",
   "pygments_lexer": "ipython3",
   "version": "3.9.7"
  },
  "orig_nbformat": 4,
  "vscode": {
   "interpreter": {
    "hash": "2015bda94f99312324182a6da2c0335845869d8cccbe791e6d71b6a750717475"
   }
  }
 },
 "nbformat": 4,
 "nbformat_minor": 2
}
