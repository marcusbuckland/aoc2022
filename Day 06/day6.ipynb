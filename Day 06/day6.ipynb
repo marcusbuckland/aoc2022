{
 "cells": [
  {
   "cell_type": "markdown",
   "metadata": {},
   "source": [
    "### Advent of Code - Day 2"
   ]
  },
  {
   "cell_type": "markdown",
   "metadata": {},
   "source": [
    "#### Part 1"
   ]
  },
  {
   "cell_type": "code",
   "execution_count": 1,
   "metadata": {},
   "outputs": [],
   "source": [
    "fh = open(\"input.txt\", 'r')\n",
    "contents = fh.read()"
   ]
  },
  {
   "cell_type": "code",
   "execution_count": 2,
   "metadata": {},
   "outputs": [],
   "source": [
    "def check(st, n):\n",
    "    if len(st) < n : return False\n",
    "    s = set(st[:n])\n",
    "    return len(s) == n\n"
   ]
  },
  {
   "cell_type": "code",
   "execution_count": 3,
   "metadata": {},
   "outputs": [],
   "source": [
    "examples = [\n",
    "    \"mjqjpqmgbljsphdztnvjfqwrcgsmlb\",\n",
    "    \"bvwbjplbgvbhsrlpgdmjqwftvncz\",\n",
    "    \"nppdvjthqldpwncqszvftbrmjlhg\",\n",
    "    \"nznrnfrfntjfmvfwmzdfjlvtqnbhcprsg\",\n",
    "    \"zcfzfwzzqfrljwzlrfnpqdbhtmscgvjw\",\n",
    "]"
   ]
  },
  {
   "cell_type": "code",
   "execution_count": 4,
   "metadata": {},
   "outputs": [
    {
     "name": "stdout",
     "output_type": "stream",
     "text": [
      "7\n",
      "5\n",
      "6\n",
      "10\n",
      "11\n"
     ]
    }
   ],
   "source": [
    "n = 4\n",
    "for ex in examples:\n",
    "    i = 0\n",
    "    while i < len(ex):\n",
    "        if check(ex[i:i+n], n) : break\n",
    "        i += 1\n",
    "\n",
    "    print(i+n)"
   ]
  },
  {
   "cell_type": "code",
   "execution_count": 5,
   "metadata": {},
   "outputs": [
    {
     "name": "stdout",
     "output_type": "stream",
     "text": [
      "1175\n"
     ]
    }
   ],
   "source": [
    "# Part 1\n",
    "i = 0\n",
    "n = 4\n",
    "while i < len(contents):\n",
    "    if check(contents[i:i+n], n) : break\n",
    "    i += 1\n",
    "\n",
    "print(i+n)"
   ]
  },
  {
   "cell_type": "code",
   "execution_count": 6,
   "metadata": {},
   "outputs": [
    {
     "name": "stdout",
     "output_type": "stream",
     "text": [
      "3217\n"
     ]
    }
   ],
   "source": [
    "# Part 2\n",
    "i = 0\n",
    "n = 14\n",
    "while i < len(contents):\n",
    "    if check(contents[i:i+n], n) : break\n",
    "    i += 1\n",
    "\n",
    "print(i+n)"
   ]
  }
 ],
 "metadata": {
  "kernelspec": {
   "display_name": "Python 3.9.7 ('base')",
   "language": "python",
   "name": "python3"
  },
  "language_info": {
   "codemirror_mode": {
    "name": "ipython",
    "version": 3
   },
   "file_extension": ".py",
   "mimetype": "text/x-python",
   "name": "python",
   "nbconvert_exporter": "python",
   "pygments_lexer": "ipython3",
   "version": "3.9.7"
  },
  "orig_nbformat": 4,
  "vscode": {
   "interpreter": {
    "hash": "2015bda94f99312324182a6da2c0335845869d8cccbe791e6d71b6a750717475"
   }
  }
 },
 "nbformat": 4,
 "nbformat_minor": 2
}
