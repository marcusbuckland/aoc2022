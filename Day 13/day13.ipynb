{
 "cells": [
  {
   "attachments": {},
   "cell_type": "markdown",
   "metadata": {},
   "source": [
    "### Advent of Code - Day 13"
   ]
  },
  {
   "cell_type": "markdown",
   "metadata": {},
   "source": [
    "#### Part 1"
   ]
  },
  {
   "cell_type": "code",
   "execution_count": 1,
   "metadata": {},
   "outputs": [],
   "source": [
    "fh = open(\"example.txt\", 'r')\n",
    "contents = fh.read().splitlines()"
   ]
  },
  {
   "cell_type": "code",
   "execution_count": 3,
   "metadata": {},
   "outputs": [
    {
     "data": {
      "text/plain": [
       "['[1,1,3,1,1]',\n",
       " '[1,1,5,1,1]',\n",
       " '[[1],[2,3,4]]',\n",
       " '[[1],4]',\n",
       " '[9]',\n",
       " '[[8,7,6]]',\n",
       " '[[4,4],4,4]',\n",
       " '[[4,4],4,4,4]',\n",
       " '[7,7,7,7]',\n",
       " '[7,7,7]',\n",
       " '[]',\n",
       " '[3]',\n",
       " '[[[]]]',\n",
       " '[[]]',\n",
       " '[1,[2,[3,[4,[5,6,7]]]],8,9]',\n",
       " '[1,[2,[3,[4,[5,6,0]]]],8,9]']"
      ]
     },
     "execution_count": 3,
     "metadata": {},
     "output_type": "execute_result"
    }
   ],
   "source": [
    "pairs = [x for x in contents if x != \"\"]\n",
    "pairs"
   ]
  },
  {
   "cell_type": "code",
   "execution_count": 36,
   "metadata": {},
   "outputs": [
    {
     "data": {
      "text/plain": [
       "'[1,1,3,1,1]'"
      ]
     },
     "execution_count": 36,
     "metadata": {},
     "output_type": "execute_result"
    }
   ],
   "source": [
    "pairs[0]"
   ]
  },
  {
   "cell_type": "code",
   "execution_count": 37,
   "metadata": {},
   "outputs": [
    {
     "name": "stdout",
     "output_type": "stream",
     "text": [
      "1\n",
      "[1,1,3,1,1]\n",
      "[1,1,5,1,1]\n",
      "\n",
      "2\n",
      "[[1],[2,3,4]]\n",
      "[[1],4]\n",
      "\n",
      "3\n",
      "[9]\n",
      "[[8,7,6]]\n",
      "\n",
      "4\n",
      "[[4,4],4,4]\n",
      "[[4,4],4,4,4]\n",
      "\n",
      "5\n",
      "[7,7,7,7]\n",
      "[7,7,7]\n",
      "\n",
      "6\n",
      "[]\n",
      "[3]\n",
      "\n",
      "7\n",
      "[[[]]]\n",
      "[[]]\n",
      "\n",
      "8\n",
      "[1,[2,[3,[4,[5,6,7]]]],8,9]\n",
      "[1,[2,[3,[4,[5,6,0]]]],8,9]\n",
      "\n"
     ]
    }
   ],
   "source": [
    "ix = 1\n",
    "correct_indices = set()\n",
    "for i in range(0, len(pairs), 2):\n",
    "    left = pairs[i]\n",
    "    right = pairs[i+1]\n",
    "    # is_correct = get_order(left, right)\n",
    "    # if is_correct : correct_indices.add(ix)\n",
    "    print(ix)\n",
    "    print(left)\n",
    "    print(right)\n",
    "    print(\"\")\n",
    "    ix +=1 \n",
    "\n"
   ]
  },
  {
   "cell_type": "code",
   "execution_count": 14,
   "metadata": {},
   "outputs": [
    {
     "data": {
      "text/plain": [
       "16"
      ]
     },
     "execution_count": 14,
     "metadata": {},
     "output_type": "execute_result"
    }
   ],
   "source": [
    "def get_order(left, right):\n",
    "    \"\"\"left is str\n",
    "    right is str\"\"\"\n",
    "    left_val = left[0]\n",
    "    right_val = right[0]\n",
    "    if left_val == \"[\" and right_val ==\"[\":\n",
    "        # list vs. list comparison\n",
    "        lef\n",
    "        \n",
    "    "
   ]
  },
  {
   "cell_type": "code",
   "execution_count": 38,
   "metadata": {},
   "outputs": [
    {
     "data": {
      "text/plain": [
       "'[1,[2,[3,[4,[5,6,7]]]],8,9]'"
      ]
     },
     "execution_count": 38,
     "metadata": {},
     "output_type": "execute_result"
    }
   ],
   "source": [
    "left"
   ]
  }
 ],
 "metadata": {
  "kernelspec": {
   "display_name": "Python 3.9.7 ('base')",
   "language": "python",
   "name": "python3"
  },
  "language_info": {
   "codemirror_mode": {
    "name": "ipython",
    "version": 3
   },
   "file_extension": ".py",
   "mimetype": "text/x-python",
   "name": "python",
   "nbconvert_exporter": "python",
   "pygments_lexer": "ipython3",
   "version": "3.9.7"
  },
  "orig_nbformat": 4,
  "vscode": {
   "interpreter": {
    "hash": "2015bda94f99312324182a6da2c0335845869d8cccbe791e6d71b6a750717475"
   }
  }
 },
 "nbformat": 4,
 "nbformat_minor": 2
}
