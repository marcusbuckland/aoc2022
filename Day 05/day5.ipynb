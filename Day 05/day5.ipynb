{
 "cells": [
  {
   "cell_type": "markdown",
   "metadata": {},
   "source": [
    "### Advent of Code - Day 2"
   ]
  },
  {
   "cell_type": "markdown",
   "metadata": {},
   "source": [
    "#### Part 1"
   ]
  },
  {
   "cell_type": "code",
   "execution_count": 1,
   "metadata": {},
   "outputs": [],
   "source": [
    "fh = open(\"input.txt\", 'r')\n",
    "contents = fh.read().splitlines()"
   ]
  },
  {
   "cell_type": "code",
   "execution_count": 2,
   "metadata": {},
   "outputs": [],
   "source": [
    "stacks = {k:[] for k in range(1,10)}\n",
    "\n",
    "boxes = contents[:8]\n",
    "instructions = contents[10:]"
   ]
  },
  {
   "cell_type": "code",
   "execution_count": 3,
   "metadata": {},
   "outputs": [],
   "source": [
    "# Parses the box information\n",
    "for line in boxes:\n",
    "    for ix in range(1, len(line), 4):\n",
    "        letter = line[ix]\n",
    "        if letter.isalpha(): \n",
    "            stacks[1+(ix//4)].append(letter)"
   ]
  },
  {
   "cell_type": "code",
   "execution_count": 4,
   "metadata": {},
   "outputs": [
    {
     "data": {
      "text/plain": [
       "{1: ['B', 'L', 'D', 'T', 'W', 'C', 'F', 'M'],\n",
       " 2: ['N', 'B', 'L'],\n",
       " 3: ['J', 'C', 'H', 'T', 'L', 'V'],\n",
       " 4: ['S', 'P', 'J', 'W'],\n",
       " 5: ['Z', 'S', 'C', 'F', 'T', 'L', 'R'],\n",
       " 6: ['W', 'D', 'G', 'B', 'H', 'N', 'Z'],\n",
       " 7: ['F', 'M', 'S', 'P', 'V', 'G', 'C', 'N'],\n",
       " 8: ['W', 'Q', 'R', 'J', 'F', 'V', 'C', 'Z'],\n",
       " 9: ['R', 'P', 'M', 'L', 'H']}"
      ]
     },
     "execution_count": 4,
     "metadata": {},
     "output_type": "execute_result"
    }
   ],
   "source": [
    "# Reverse the stacks\n",
    "[x.reverse() for x in stacks.values()]\n",
    "stacks"
   ]
  },
  {
   "cell_type": "code",
   "execution_count": null,
   "metadata": {},
   "outputs": [],
   "source": [
    "# Parse an instruction - Part 1\n",
    "for inst in instructions:\n",
    "    quantity, stack_from, stack_to = [int(x) for x in inst.split() if x.isnumeric()]\n",
    "    for _ in range(quantity):\n",
    "        stacks[stack_to].append(stacks[stack_from].pop())\n"
   ]
  },
  {
   "cell_type": "code",
   "execution_count": null,
   "metadata": {},
   "outputs": [],
   "source": [
    "\"\".join([x[-1] for x in stacks.values()])"
   ]
  },
  {
   "cell_type": "code",
   "execution_count": 5,
   "metadata": {},
   "outputs": [
    {
     "data": {
      "text/plain": [
       "'TZLTLWRNF'"
      ]
     },
     "execution_count": 5,
     "metadata": {},
     "output_type": "execute_result"
    }
   ],
   "source": [
    "# Parse an instruction - Part 2\n",
    "for inst in instructions:\n",
    "    quantity, stack_from, stack_to = [int(x) for x in inst.split() if x.isnumeric()]\n",
    "    moving = stacks[stack_from][-quantity:]\n",
    "    stacks[stack_from] = stacks[stack_from][:-quantity]\n",
    "    stacks[stack_to] = stacks[stack_to] + moving\n",
    "\n",
    "\"\".join([x[-1] for x in stacks.values()])"
   ]
  },
  {
   "cell_type": "code",
   "execution_count": null,
   "metadata": {},
   "outputs": [],
   "source": []
  }
 ],
 "metadata": {
  "kernelspec": {
   "display_name": "Python 3.9.7 ('base')",
   "language": "python",
   "name": "python3"
  },
  "language_info": {
   "codemirror_mode": {
    "name": "ipython",
    "version": 3
   },
   "file_extension": ".py",
   "mimetype": "text/x-python",
   "name": "python",
   "nbconvert_exporter": "python",
   "pygments_lexer": "ipython3",
   "version": "3.9.7"
  },
  "orig_nbformat": 4,
  "vscode": {
   "interpreter": {
    "hash": "2015bda94f99312324182a6da2c0335845869d8cccbe791e6d71b6a750717475"
   }
  }
 },
 "nbformat": 4,
 "nbformat_minor": 2
}
